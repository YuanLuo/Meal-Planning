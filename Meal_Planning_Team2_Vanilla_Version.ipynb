{
 "cells": [
  {
   "cell_type": "code",
   "execution_count": 1,
   "metadata": {
    "id": "ghxC9Fm-DRDE"
   },
   "outputs": [],
   "source": [
    "using JuMP, CPLEX"
   ]
  },
  {
   "cell_type": "code",
   "execution_count": 2,
   "metadata": {},
   "outputs": [],
   "source": [
    "# rating\n",
    "rating = [3.3,1.87,2.09,2.89,2.14,2.31,1.68,1.57,3.03,2.07,2.28,2.28,2.96,2.8,2.32,1.97,1.7,2.82,3.28,3.57,1.85,2.93,2.27,2.74,3.14,4.11,3.29,3.8,2.31,3.39,0.84,2.53,3.2,3.14,3.3,3.47,2.48,2.91,3.89,1.65,0.76,0,2.57,2.07,2.8,1.5,2.45,2.49,3.5,4.09,2.09,3.03,0,2.55,2.45,2.27,2,2.58,3.39,3.03,2.64,2.89,3.39,3.39,3.68,3.5,2.57,2.91,0,2.81,2.62,2.53,3.79,0,3.57,2,2.68,1,3.79,1.04,3.57,2.66,2.04,1.04,2.39,0,2.62,1.87,3.23,1.47,3.28,1.52,2.28,2.89,3.5,2.25,2,2.57,0.82,1.57,3.5,3.44,3.28];\n",
    "\n",
    "# nutrition\n",
    "calories = [503,488,1448,620,578,816,1083,197,694,498,773,458,730,694,349,586,577,252,885,563,465,681,327,737,656,388,194,708,470,1250,1169,526,368,791,847,355,733,318,673,683,661,539,437,467,640,725,572,959,245,1032,525,711,652,422,307,2887,688,756,549,504,809,656,337,71,1040,496,470,501,591,941,828,1208,703,139,420,365,633,2148,260,236,1033,526,272,302,78,405,820,890,599,482,1141,127,351,693,137,662,815,529,463,665,534,606,329];\n",
    "protein  = [29,29,56,53,34,39,52,3,14,23,19,31,58,17,15,28,23,38,56,40,34,61,5,52,50,8,2,20,8,50,83,43,1,30,46,5,23,30,38,33,41,37,5,21,39,46,53,1,8,51,12,21,22,30,12,63,48,51,42,17,45,22,8,1,20,26,28,39,10,31,25,12,23,3,35,11,15,53,39,0,44,13,6,8,6,38,28,28,32,30,34,6,21,3,13,32,36,28,35,17,45,27,20];\n",
    "fat = [34,32,102,31,23,52,64,6,53,36,35,21,46,29,22,47,38,8,28,23,20,43,21,50,34,19,11,41,45,62,72,23,36,34,62,18,34,8,29,31,44,24,4,36,49,34,10,0,13,67,40,48,24,31,27,205,25,32,36,15,35,36,5,5,75,11,34,22,56,61,44,69,29,9,20,19,54,80,11,24,53,23,4,30,6,18,47,60,17,34,77,2,20,73,8,44,60,31,18,63,14,15,26];\n",
    "sodium = [1574,985,784,1482,1151,1015,1145,567,912,706,1077,1825,1231,508,377,816,839,709,1257,813,1675,1198,270,708,1277,301,110,733,289,1121,2712,715,329,721,953,243,1509,807,1089,1608,1209,758,694,1050,573,801,1592,13,571,1592,679,1104,1364,532,289,2691,1668,1041,760,621,1583,1089,410,385,1047,1497,989,1056,496,837,940,528,1144,539,843,275,849,1146,428,45,3495,1262,194,170,89,1041,713,1283,968,1189,2287,60,716,388,247,756,1156,491,917,855,968,1365,327];\n",
    "\n",
    "# price\n",
    "price = [2.12,9.889,7.759,2.78,2.26,3.239,15.35,1.28,6.98,18.787,6.61,3.239,9.849,7.568,16.818,4.001,14.88,5.599,3.239,8.159,5.01,11.897,11.47,11.859,10.547,12.168,7.581,5.25,6.117,16.023,6.4,4.181,9.06,4.03,5.519,2.62,7.128,9.469,14.019,10.18,7.971,15.754,2.8,7.38,4.26,12.659,8.079,0,9.75,6.429,11.36,14.76,11.348,5.68,9.08,12.076,14.51,9.337,9.139,6.23,16.14,14.27,14.63,3.34,15.131,3,6.579,12.217,13,22.977,8.72,0,4.64,4.62,9.679,3.368,7.93,2.48,12.59,3.18,8.597,13.463,7.38,4.86,21.488,13.079,7.232,10.79,9.32,2.66,10.52,0.98,3.242,6.53,7.779,8.73,0,10.719,3.839,8.862,6.839,9.208,10.07];\n",
    "# cookinng_time\n",
    "cooking_time = [75,45,20,45,20,22,80,50,20,45,40,22,95,25,25,45,40,370,22,45,45,600,135,30,45,145,160,70,510,45,30,30,30,35,60,120,35,490,22,120,30,30,75,10,120,35,255,60,20,65,40,60,40,20,30,120,22,35,20,20,120,50,60,85,40,30,35,35,130,30,45,205,22,135,25,20,90,240,25,50,22,70,135,40,60,22,105,45,22,10,45,30,50,20,55,25,30,35,10,25,30,45,20];"
   ]
  },
  {
   "cell_type": "code",
   "execution_count": 3,
   "metadata": {
    "id": "IMUGLabjDRDH"
   },
   "outputs": [],
   "source": [
    "# available cook time for each person from Monday to Thursday\n",
    "remaintime_1 = [80 100 90 110];\n",
    "remaintime_2 = [120 80 100 130];\n",
    "remaintime_3 = [90 120 70 110];\n",
    "remaintime_4 = [100 120 100 90];\n",
    "\n",
    "# total calories per week for\n",
    "c_bound = [4400 5800];\n",
    "\n",
    "# total protein per week\n",
    "p_bound = [210 320];\n",
    "\n",
    "# total fat per week\n",
    "f_bound = [265 300];\n",
    "\n",
    "# total sodium per week\n",
    "s_bound = [2000 4500];\n",
    "\n",
    "# total price per week\n",
    "e_bound = 160;\n",
    "\n",
    "# coefficient\n",
    "beta = [1 1 1 1];\n",
    "alpha = 0.1;"
   ]
  },
  {
   "cell_type": "code",
   "execution_count": 4,
   "metadata": {
    "id": "wgIUIFYXDRDH"
   },
   "outputs": [],
   "source": [
    "# bulid the model and set the variables\n",
    "model = Model(CPLEX.Optimizer)\n",
    "\n",
    "# dishes selected for the week\n",
    "@variable(model, x[1:103], Bin);\n",
    "\n",
    "# dishes selected for each user from Monday to Thursday\n",
    "@variable(model, u1[1:103,1:4], Bin);\n",
    "@variable(model, u2[1:103,1:4], Bin);\n",
    "@variable(model, u3[1:103,1:4], Bin);\n",
    "@variable(model, u4[1:103,1:4], Bin);\n",
    "\n",
    "# overflow penalty\n",
    "@variable(model, fplus[1:4] >= 0);\n",
    "@variable(model, fminus[1:4] >= 0);\n",
    "\n",
    "# cooking time penalty\n",
    "@variable(model, w >= 0);"
   ]
  },
  {
   "cell_type": "code",
   "execution_count": 5,
   "metadata": {
    "id": "1I0any-tDRDH"
   },
   "outputs": [],
   "source": [
    "# set the optimization problem and set the constraints\n",
    "@objective(model, Max, sum(rating[i]*x[i] for i in 1:103) - sum(beta[j]*fplus[j] for j in 1:4) - alpha*w);\n",
    "\n",
    "# select 2 dishes per day\n",
    "@constraint(model, one_meal_per_day[j=1:4],sum(u1[i,j] for i in 1:103) + sum(u2[i,j] for i in 1:103) \n",
    "    + sum(u3[i,j] for i in 1:103) + sum(u4[i,j] for i in 1:103) == 2);\n",
    "\n",
    "# calories per week\n",
    "@constraint(model, c_lb, sum(calories[i]*x[i] for i in 1:103) >= c_bound[1]);\n",
    "@constraint(model, c_ub, sum(calories[i]*x[i] for i in 1:103) == c_bound[2] + fplus[1] - fminus[1]);\n",
    "\n",
    "# protein per week\n",
    "@constraint(model, p_lb, sum(protein[i]*x[i] for i in 1:103) >= p_bound[1]);\n",
    "@constraint(model, p_ub, sum(protein[i]*x[i] for i in 1:103) == p_bound[2] + fplus[2] - fminus[2]);\n",
    "\n",
    "# fat per week\n",
    "@constraint(model, f_lb, sum(fat[i]*x[i] for i in 1:103) >= f_bound[1]);\n",
    "@constraint(model, f_ub, sum(fat[i]*x[i] for i in 1:103) == f_bound[2] + fplus[3] - fminus[3]);\n",
    "\n",
    "# sodium per week\n",
    "@constraint(model, s_lb, sum(sodium[i]*x[i] for i in 1:103) >= s_bound[1]);\n",
    "@constraint(model, s_ub, sum(sodium[i]*x[i] for i in 1:103) == s_bound[2] + fplus[4] - fminus[4]);\n",
    "\n",
    "# price upper bound per week\n",
    "@constraint(model, e_ub, sum(price[i]*x[i] for i in 1:103) <= e_bound);\n",
    "\n",
    "# cooking time is shorter than available time for each member for each day\n",
    "@constraint(model, cooktime_1[j=1:4], sum(cooking_time[i]*u1[i,j] for i in 1:103) - remaintime_1[j] <= 0);\n",
    "@constraint(model, cooktime_2[j=1:4], sum(cooking_time[i]*u2[i,j] for i in 1:103) - remaintime_2[j] <= 0);\n",
    "@constraint(model, cooktime_3[j=1:4], sum(cooking_time[i]*u3[i,j] for i in 1:103) - remaintime_3[j] <= 0);\n",
    "@constraint(model, cooktime_4[j=1:4], sum(cooking_time[i]*u4[i,j] for i in 1:103) - remaintime_4[j] <= 0);\n",
    "\n",
    "# cooking time penalty\n",
    "@constraint(model, time_b12, sum(cooking_time[i]*u1[i,j] for i in 1:103 for j in 1:4)-sum(cooking_time[i]*u2[i,j] for i in 1:103 for j in 1:4) <= w);\n",
    "@constraint(model, time_b13, sum(cooking_time[i]*u1[i,j] for i in 1:103 for j in 1:4)-sum(cooking_time[i]*u3[i,j] for i in 1:103 for j in 1:4) <= w);\n",
    "@constraint(model, time_b14, sum(cooking_time[i]*u1[i,j] for i in 1:103 for j in 1:4)-sum(cooking_time[i]*u4[i,j] for i in 1:103 for j in 1:4) <= w);\n",
    "@constraint(model, time_b23, sum(cooking_time[i]*u2[i,j] for i in 1:103 for j in 1:4)-sum(cooking_time[i]*u3[i,j] for i in 1:103 for j in 1:4) <= w);\n",
    "@constraint(model, time_b24, sum(cooking_time[i]*u2[i,j] for i in 1:103 for j in 1:4)-sum(cooking_time[i]*u4[i,j] for i in 1:103 for j in 1:4) <= w);\n",
    "@constraint(model, time_b34, sum(cooking_time[i]*u3[i,j] for i in 1:103 for j in 1:4)-sum(cooking_time[i]*u4[i,j] for i in 1:103 for j in 1:4) <= w);\n",
    "\n",
    "@constraint(model, time_b121, sum(cooking_time[i]*u2[i,j] for i in 1:103 for j in 1:4)-sum(cooking_time[i]*u1[i,j] for i in 1:103 for j in 1:4) <= w);\n",
    "@constraint(model, time_b131, sum(cooking_time[i]*u3[i,j] for i in 1:103 for j in 1:4)-sum(cooking_time[i]*u1[i,j] for i in 1:103 for j in 1:4) <= w);\n",
    "@constraint(model, time_b141, sum(cooking_time[i]*u4[i,j] for i in 1:103 for j in 1:4)-sum(cooking_time[i]*u1[i,j] for i in 1:103 for j in 1:4) <= w);\n",
    "@constraint(model, time_b231, sum(cooking_time[i]*u3[i,j] for i in 1:103 for j in 1:4)-sum(cooking_time[i]*u2[i,j] for i in 1:103 for j in 1:4) <= w);\n",
    "@constraint(model, time_b241, sum(cooking_time[i]*u4[i,j] for i in 1:103 for j in 1:4)-sum(cooking_time[i]*u2[i,j] for i in 1:103 for j in 1:4) <= w);\n",
    "@constraint(model, time_b341, sum(cooking_time[i]*u4[i,j] for i in 1:103 for j in 1:4)-sum(cooking_time[i]*u3[i,j] for i in 1:103 for j in 1:4) <= w);\n",
    "\n",
    "# not repeat constraint (8 dishes picked within a week will not repeat)\n",
    "@constraint(model, no_repeat_food[i=1:103], \n",
    "    sum(u1[i,j] for j in 1:4)+sum(u2[i,j] for j in 1:4)+sum(u3[i,j] for j in 1:4)+sum(u4[i,j] for j in 1:4) <= 1);\n",
    "\n",
    "# each dish selected will be cooked by members\n",
    "@constraint(model, assignment[i=1:103], x[i]\n",
    "    -sum(u1[i,j] for j in 1:4)-sum(u2[i,j] for j in 1:4)-sum(u3[i,j] for j in 1:4)-sum(u4[i,j] for j in 1:4) == 0);"
   ]
  },
  {
   "cell_type": "code",
   "execution_count": 6,
   "metadata": {
    "id": "-Nhws9iuDRDI",
    "outputId": "6446429f-754d-4e9b-86d4-a09ee50c7d5f"
   },
   "outputs": [
    {
     "name": "stdout",
     "output_type": "stream",
     "text": [
      "Version identifier: 22.1.0.0 | 2022-03-09 | 1a383f8ce\n",
      "Tried aggregator 2 times.\n",
      "MIP Presolve eliminated 115 rows and 304 columns.\n",
      "MIP Presolve modified 22 coefficients.\n",
      "Aggregator did 1 substitutions.\n",
      "Reduced MIP has 131 rows, 1455 columns, and 13126 nonzeros.\n",
      "Reduced MIP has 1446 binaries, 0 generals, 0 SOSs, and 0 indicators.\n",
      "Presolve time = 0.02 sec. (13.18 ticks)\n",
      "Found incumbent of value -6989.680000 after 0.04 sec. (33.49 ticks)\n",
      "Probing time = 0.01 sec. (2.46 ticks)\n",
      "Tried aggregator 1 time.\n",
      "Detecting symmetries...\n",
      "Reduced MIP has 131 rows, 1455 columns, and 13126 nonzeros.\n",
      "Reduced MIP has 1446 binaries, 1 generals, 0 SOSs, and 0 indicators.\n",
      "Presolve time = 0.01 sec. (6.19 ticks)\n",
      "Probing time = 0.01 sec. (2.50 ticks)\n",
      "Clique table members: 1155.\n",
      "MIP emphasis: balance optimality and feasibility.\n",
      "MIP search method: dynamic search.\n",
      "Parallel mode: deterministic, using up to 4 threads.\n",
      "Root relaxation solution time = 0.02 sec. (14.09 ticks)\n",
      "\n",
      "        Nodes                                         Cuts/\n",
      "   Node  Left     Objective  IInf  Best Integer    Best Bound    ItCnt     Gap\n",
      "\n",
      "*     0+    0                        -6989.6800      227.7200           103.26%\n",
      "*     0+    0                        -6984.4800      227.7200           103.26%\n",
      "*     0+    0                        -6983.1800      227.7200           103.26%\n",
      "*     0+    0                        -6981.8800      227.7200           103.26%\n",
      "*     0+    0                        -6980.5800      227.7200           103.26%\n",
      "*     0+    0                        -6979.2800      227.7200           103.26%\n",
      "*     0+    0                        -6977.9800      227.7200           103.26%\n",
      "*     0+    0                        -6976.6800      227.7200           103.26%\n",
      "*     0+    0                        -6975.3800      227.7200           103.26%\n",
      "*     0+    0                        -6974.0800      227.7200           103.27%\n",
      "      0     0       27.7137    21    -6974.0800       27.7137      403  100.40%\n",
      "      0     0       27.6677    22    -6974.0800       Cuts: 4      414  100.40%\n",
      "      0     0       27.6246    25    -6974.0800       Cuts: 7      434  100.40%\n",
      "*     0+    0                           22.0000       27.6246            25.57%\n",
      "      0     0       27.6204    24       22.0000       Cuts: 8      461   25.55%\n",
      "      0     0       27.6005    30       22.0000      Cuts: 11      489   25.46%\n",
      "      0     0       27.5826    29       22.0000       Cuts: 5      499   25.38%\n",
      "Detecting symmetries...\n",
      "      0     0       27.5824    30       22.0000    MIRcuts: 3      503   25.37%\n",
      "      0     0       27.5685    33       22.0000    MIRcuts: 9      522   25.31%\n",
      "*     0+    0                           22.1400       27.5685            24.52%\n",
      "      0     0       27.5618    35       22.1400       Cuts: 5      537   24.49%\n",
      "      0     0       27.5411    37       22.1400       Cuts: 3      544   24.40%\n",
      "      0     0       27.5411    38       22.1400     Covers: 1      546   24.40%\n",
      "*     0+    0                           23.0000       27.5411            19.74%\n",
      "*     0+    0                           23.4600       27.5411            17.40%\n",
      "*     0+    0                           23.7000       27.4913            16.00%\n",
      "      0     0        cutoff             23.7000       27.4913      546   16.00%\n",
      "Detecting symmetries...\n",
      "      0     2       27.5411    36       23.7000       27.4913      546   16.00%\n",
      "Elapsed time = 0.73 sec. (310.51 ticks, tree = 0.02 MB, solutions = 15)\n",
      "*    28+    1                           25.7300       27.4913             6.85%\n",
      "*   563+  396                           26.5300       27.3331             3.03%\n",
      "   1019   415        cutoff             26.5300       27.2910     8386    2.87%\n",
      "   2678  1034       26.8032    20       26.5300       27.1273    17269    2.25%\n",
      "\n",
      "Performing restart 1\n",
      "\n",
      "Repeating presolve.\n",
      "Tried aggregator 1 time.\n",
      "MIP Presolve eliminated 50 rows and 809 columns.\n",
      "MIP Presolve modified 223 coefficients.\n",
      "Reduced MIP has 81 rows, 646 columns, and 5639 nonzeros.\n",
      "Reduced MIP has 637 binaries, 1 generals, 0 SOSs, and 0 indicators.\n",
      "Presolve time = 0.01 sec. (4.61 ticks)\n",
      "Tried aggregator 1 time.\n",
      "Reduced MIP has 81 rows, 646 columns, and 5639 nonzeros.\n",
      "Reduced MIP has 637 binaries, 1 generals, 0 SOSs, and 0 indicators.\n",
      "Presolve time = 0.01 sec. (3.02 ticks)\n",
      "Represolve time = 0.03 sec. (19.49 ticks)\n",
      "   3693     0       27.5143    30       26.5300      Cuts: 14    23831    1.79%\n",
      "   3693     0       27.4667    32       26.5300       Cuts: 9    23871    1.79%\n",
      "   3693     0       27.4647    31       26.5300       Cuts: 9    23894    1.79%\n",
      "   3693     0       27.4639    36       26.5300      Cuts: 13    23915    1.79%\n",
      "   3693     0       27.4630    37       26.5300       Cuts: 5    23928    1.79%\n",
      "   3693     2       27.4630    36       26.5300       27.0045    23928    1.79%\n",
      "   4581   165        cutoff             26.5300       26.8856    29886    1.34%\n",
      "   6022   342        cutoff             26.5300       26.7700    39152    0.90%\n",
      "   7102   332       26.7700    10       26.5300       26.7700    47677    0.90%\n",
      "   8138   507       26.7700     9       26.5300       26.7700    54442    0.90%\n",
      "   9144   502       26.7700     8       26.5300       26.7700    62786    0.90%\n",
      "  10331   467    infeasible             26.5300       26.7700    71808    0.90%\n",
      "  15965   436       26.7300     6       26.5300       26.7700   106126    0.90%\n",
      "Elapsed time = 8.01 sec. (3543.07 ticks, tree = 0.15 MB, solutions = 18)\n",
      "  22505   467       26.6900    11       26.5300       26.6900   135178    0.60%\n",
      "  27934   483        cutoff             26.5300       26.6100   173810    0.30%\n",
      "  33662   572        cutoff             26.5300       26.6100   201415    0.30%\n",
      "  39570   825       26.6100    10       26.5300       26.6100   240493    0.30%\n",
      "  45628   988        cutoff             26.5300       26.6100   276967    0.30%\n",
      "  51647  1083       26.6100    11       26.5300       26.6100   317394    0.30%\n",
      "  57635  1415       26.6100     7       26.5300       26.6100   353636    0.30%\n",
      "  63669  1389    infeasible             26.5300       26.6100   390599    0.30%\n",
      "  69538  1178        cutoff             26.5300       26.6100   433482    0.30%\n",
      "  75478  1380        cutoff             26.5300       26.6100   469007    0.30%\n",
      "Elapsed time = 24.04 sec. (13080.67 ticks, tree = 0.53 MB, solutions = 18)\n",
      "  81408  1418        cutoff             26.5300       26.6100   511780    0.30%\n",
      "  87386  1642        cutoff             26.5300       26.6100   546263    0.30%\n",
      "  93551  1443        cutoff             26.5300       26.6100   587030    0.30%\n",
      "  99304   710        cutoff             26.5300       26.6100   625787    0.30%\n",
      " 103920   564    infeasible             26.5300       26.5919   660629    0.23%\n",
      " 110399  1037       26.5800     9       26.5300       26.5800   687816    0.19%\n",
      " 117122  1546       26.5800     7       26.5300       26.5800   732431    0.19%\n",
      " 123427  1573        cutoff             26.5300       26.5800   761012    0.19%\n",
      " 130232  1612       26.5800     7       26.5300       26.5800   796606    0.19%\n",
      " 136425  1832       26.5800    10       26.5300       26.5800   834135    0.19%\n",
      "Elapsed time = 45.17 sec. (22618.93 ticks, tree = 0.75 MB, solutions = 18)\n",
      " 142938  1895       26.5800     7       26.5300       26.5800   869785    0.19%\n",
      " 149752  2064       26.5800    11       26.5300       26.5800   910930    0.19%\n",
      " 156421  2001        cutoff             26.5300       26.5800   948010    0.19%\n",
      " 163060  2289       26.5800     6       26.5300       26.5800   985913    0.19%\n",
      " 169928  2436       26.5800    10       26.5300       26.5800  1015966    0.19%\n",
      " 176172  2328    infeasible             26.5300       26.5800  1049351    0.19%\n",
      " 183079  2008       26.5800     8       26.5300       26.5800  1090025    0.19%\n",
      " 190058  1797        cutoff             26.5300       26.5800  1135768    0.19%\n",
      " 196856  1605    infeasible             26.5300       26.5800  1164407    0.19%\n",
      " 203875  1221    infeasible             26.5300       26.5800  1206974    0.19%\n",
      "Elapsed time = 61.11 sec. (32157.17 ticks, tree = 0.45 MB, solutions = 18)\n",
      " 211166   546        cutoff             26.5300       26.5800  1244551    0.19%\n",
      "objective_value(model) = 26.53\n",
      "\n",
      "GUB cover cuts applied:  1\n",
      "Cover cuts applied:  397\n",
      "Flow cuts applied:  1\n",
      "Mixed integer rounding cuts applied:  16\n",
      "Zero-half cuts applied:  1\n",
      "Gomory fractional cuts applied:  4\n",
      "\n",
      "Root node processing (before b&c):\n",
      "  Real time             =    0.73 sec. (310.36 ticks)\n",
      "Parallel b&c, 4 threads:\n",
      "  Real time             =   62.88 sec. (33396.64 ticks)\n",
      "  Sync time (average)   =    3.76 sec.\n",
      "  Wait time (average)   =    0.11 sec.\n",
      "                          ------------\n",
      "Total (root+branch&cut) =   63.61 sec. (33706.99 ticks)\n"
     ]
    },
    {
     "data": {
      "text/plain": [
       "26.53"
      ]
     },
     "execution_count": 6,
     "metadata": {},
     "output_type": "execute_result"
    }
   ],
   "source": [
    "optimize!(model)\n",
    "@assert(termination_status(model) == OPTIMAL)\n",
    "@show objective_value(model)\n",
    "# print(value.(x))\n",
    "# value.(z)"
   ]
  },
  {
   "cell_type": "code",
   "execution_count": 7,
   "metadata": {},
   "outputs": [
    {
     "name": "stdout",
     "output_type": "stream",
     "text": [
      "value.(sum((x[i] for i = 1:103))) = 8.0\n"
     ]
    },
    {
     "data": {
      "text/plain": [
       "8.0"
      ]
     },
     "execution_count": 7,
     "metadata": {},
     "output_type": "execute_result"
    }
   ],
   "source": [
    "# total dishes per week\n",
    "@show(value.(sum(x[i] for i in 1:103)))"
   ]
  },
  {
   "cell_type": "code",
   "execution_count": 8,
   "metadata": {
    "scrolled": true
   },
   "outputs": [
    {
     "name": "stdout",
     "output_type": "stream",
     "text": [
      "value.(sum((u1[i, 1] for i = 1:103))) = 1.0\n"
     ]
    },
    {
     "data": {
      "text/plain": [
       "1.0"
      ]
     },
     "execution_count": 8,
     "metadata": {},
     "output_type": "execute_result"
    }
   ],
   "source": [
    "# dishes picked for user 1 on Monday\n",
    "@show(value.(sum(u1[i,1] for i in 1:103)))"
   ]
  },
  {
   "cell_type": "code",
   "execution_count": 9,
   "metadata": {},
   "outputs": [
    {
     "name": "stdout",
     "output_type": "stream",
     "text": [
      "value.((u1[i, 1] for i = 1:103)) = [0.0, 0.0, 0.0, 0.0, 0.0, 0.0, 0.0, 0.0, 0.0, 0.0, 0.0, 0.0, 0.0, 0.0, 0.0, 0.0, 0.0, 0.0, 0.0, 0.0, 0.0, 0.0, 0.0, 0.0, 0.0, 0.0, 0.0, 0.0, 0.0, 1.0, 0.0, 0.0, 0.0, 0.0, 0.0, 0.0, 0.0, 0.0, 0.0, 0.0, 0.0, 0.0, 0.0, 0.0, 0.0, 0.0, 0.0, 0.0, 0.0, 0.0, 0.0, 0.0, 0.0, 0.0, 0.0, 0.0, 0.0, 0.0, 0.0, 0.0, 0.0, 0.0, 0.0, 0.0, 0.0, 0.0, 0.0, 0.0, 0.0, 0.0, 0.0, 0.0, 0.0, 0.0, 0.0, 0.0, 0.0, 0.0, 0.0, 0.0, 0.0, 0.0, 0.0, 0.0, 0.0, 0.0, 0.0, 0.0, 0.0, 0.0, 0.0, 0.0, 0.0, 0.0, 0.0, 0.0, 0.0, 0.0, 0.0, 0.0, 0.0, 0.0, 0.0]\n"
     ]
    },
    {
     "data": {
      "text/plain": [
       "103-element Vector{Float64}:\n",
       " 0.0\n",
       " 0.0\n",
       " 0.0\n",
       " 0.0\n",
       " 0.0\n",
       " 0.0\n",
       " 0.0\n",
       " 0.0\n",
       " 0.0\n",
       " 0.0\n",
       " 0.0\n",
       " 0.0\n",
       " 0.0\n",
       " ⋮\n",
       " 0.0\n",
       " 0.0\n",
       " 0.0\n",
       " 0.0\n",
       " 0.0\n",
       " 0.0\n",
       " 0.0\n",
       " 0.0\n",
       " 0.0\n",
       " 0.0\n",
       " 0.0\n",
       " 0.0"
      ]
     },
     "execution_count": 9,
     "metadata": {},
     "output_type": "execute_result"
    }
   ],
   "source": [
    "# info of dishes picked for user 1 on Monday\n",
    "@show(value.(u1[i,1] for i in 1:103))"
   ]
  },
  {
   "cell_type": "code",
   "execution_count": 10,
   "metadata": {},
   "outputs": [
    {
     "name": "stdout",
     "output_type": "stream",
     "text": [
      "value.(sum((u1[i, 2] for i = 1:103))) = 1.0\n"
     ]
    },
    {
     "data": {
      "text/plain": [
       "1.0"
      ]
     },
     "execution_count": 10,
     "metadata": {},
     "output_type": "execute_result"
    }
   ],
   "source": [
    "# dishes picked for user 1 on Tuesday\n",
    "@show(value.(sum(u1[i,2] for i in 1:103)))"
   ]
  },
  {
   "cell_type": "code",
   "execution_count": 11,
   "metadata": {},
   "outputs": [
    {
     "name": "stdout",
     "output_type": "stream",
     "text": [
      "value.((u1[i, 2] for i = 1:103)) = [0.0, 0.0, 0.0, 0.0, 0.0, 0.0, 0.0, 0.0, 0.0, 0.0, 0.0, 0.0, 0.0, 0.0, 0.0, 0.0, 0.0, 0.0, 0.0, 0.0, 0.0, 0.0, 0.0, 0.0, 0.0, 0.0, 0.0, 0.0, 0.0, 0.0, 0.0, 0.0, 0.0, 0.0, 0.0, 0.0, 0.0, 0.0, 0.0, 0.0, 0.0, 0.0, 0.0, 0.0, 0.0, 0.0, 0.0, 0.0, 0.0, 0.0, 0.0, 0.0, 0.0, 0.0, 0.0, 0.0, 0.0, 0.0, 0.0, 0.0, 0.0, 0.0, 0.0, 0.0, 0.0, 0.0, 0.0, 0.0, 0.0, 0.0, 0.0, 0.0, 0.0, 0.0, 0.0, 0.0, 0.0, 0.0, 0.0, 0.0, 0.0, 0.0, 0.0, 0.0, 0.0, 0.0, 0.0, 0.0, 0.0, 0.0, 0.0, 0.0, 0.0, 0.0, 1.0, 0.0, 0.0, 0.0, 0.0, 0.0, 0.0, 0.0, 0.0]\n"
     ]
    },
    {
     "data": {
      "text/plain": [
       "103-element Vector{Float64}:\n",
       " 0.0\n",
       " 0.0\n",
       " 0.0\n",
       " 0.0\n",
       " 0.0\n",
       " 0.0\n",
       " 0.0\n",
       " 0.0\n",
       " 0.0\n",
       " 0.0\n",
       " 0.0\n",
       " 0.0\n",
       " 0.0\n",
       " ⋮\n",
       " 0.0\n",
       " 0.0\n",
       " 0.0\n",
       " 1.0\n",
       " 0.0\n",
       " 0.0\n",
       " 0.0\n",
       " 0.0\n",
       " 0.0\n",
       " 0.0\n",
       " 0.0\n",
       " 0.0"
      ]
     },
     "execution_count": 11,
     "metadata": {},
     "output_type": "execute_result"
    }
   ],
   "source": [
    "# info of dishes picked for user 1 on Tuesday\n",
    "@show(value.(u1[i,2] for i in 1:103))"
   ]
  },
  {
   "cell_type": "code",
   "execution_count": 12,
   "metadata": {},
   "outputs": [
    {
     "name": "stdout",
     "output_type": "stream",
     "text": [
      "value.(sum((u1[i, 3] for i = 1:103))) = 1.0\n"
     ]
    },
    {
     "data": {
      "text/plain": [
       "1.0"
      ]
     },
     "execution_count": 12,
     "metadata": {},
     "output_type": "execute_result"
    }
   ],
   "source": [
    "# dishes picked for user 1 on Wednesday\n",
    "@show(value.(sum(u1[i,3] for i in 1:103)))"
   ]
  },
  {
   "cell_type": "code",
   "execution_count": 13,
   "metadata": {},
   "outputs": [
    {
     "name": "stdout",
     "output_type": "stream",
     "text": [
      "value.((u1[i, 3] for i = 1:103)) = [0.0, 0.0, 0.0, 0.0, 0.0, 0.0, 0.0, 0.0, 0.0, 0.0, 0.0, 0.0, 0.0, 0.0, 0.0, 0.0, 0.0, 0.0, 0.0, 0.0, 0.0, 0.0, 0.0, 0.0, 0.0, 0.0, 0.0, 0.0, 0.0, 0.0, 0.0, 0.0, 0.0, 0.0, 0.0, 0.0, 0.0, 0.0, 0.0, 0.0, 0.0, 0.0, 0.0, 0.0, 0.0, 0.0, 0.0, 0.0, 0.0, 0.0, 0.0, 0.0, 0.0, 0.0, 0.0, 0.0, 0.0, 0.0, 1.0, 0.0, 0.0, 0.0, 0.0, 0.0, 0.0, 0.0, 0.0, 0.0, 0.0, 0.0, 0.0, 0.0, 0.0, 0.0, 0.0, 0.0, 0.0, 0.0, 0.0, 0.0, 0.0, 0.0, 0.0, 0.0, 0.0, 0.0, 0.0, 0.0, 0.0, 0.0, 0.0, 0.0, 0.0, 0.0, 0.0, 0.0, 0.0, 0.0, 0.0, 0.0, 0.0, 0.0, 0.0]\n"
     ]
    },
    {
     "data": {
      "text/plain": [
       "103-element Vector{Float64}:\n",
       " 0.0\n",
       " 0.0\n",
       " 0.0\n",
       " 0.0\n",
       " 0.0\n",
       " 0.0\n",
       " 0.0\n",
       " 0.0\n",
       " 0.0\n",
       " 0.0\n",
       " 0.0\n",
       " 0.0\n",
       " 0.0\n",
       " ⋮\n",
       " 0.0\n",
       " 0.0\n",
       " 0.0\n",
       " 0.0\n",
       " 0.0\n",
       " 0.0\n",
       " 0.0\n",
       " 0.0\n",
       " 0.0\n",
       " 0.0\n",
       " 0.0\n",
       " 0.0"
      ]
     },
     "execution_count": 13,
     "metadata": {},
     "output_type": "execute_result"
    }
   ],
   "source": [
    "# info of dishes picked for user 1 on Wednesday\n",
    "@show(value.(u1[i,3] for i in 1:103))"
   ]
  },
  {
   "cell_type": "code",
   "execution_count": 14,
   "metadata": {},
   "outputs": [
    {
     "name": "stdout",
     "output_type": "stream",
     "text": [
      "value.(sum((u1[i, 4] for i = 1:103))) = 0.0\n"
     ]
    },
    {
     "data": {
      "text/plain": [
       "0.0"
      ]
     },
     "execution_count": 14,
     "metadata": {},
     "output_type": "execute_result"
    }
   ],
   "source": [
    "# dishes picked for user 1 on Thursday\n",
    "@show(value.(sum(u1[i,4] for i in 1:103)))"
   ]
  },
  {
   "cell_type": "code",
   "execution_count": 15,
   "metadata": {},
   "outputs": [
    {
     "name": "stdout",
     "output_type": "stream",
     "text": [
      "value.(sum((u2[i, 1] for i = 1:103))) = 0.0\n"
     ]
    },
    {
     "data": {
      "text/plain": [
       "0.0"
      ]
     },
     "execution_count": 15,
     "metadata": {},
     "output_type": "execute_result"
    }
   ],
   "source": [
    "# dishes picked for user 2 on Monday\n",
    "@show(value.(sum(u2[i,1] for i in 1:103)))"
   ]
  },
  {
   "cell_type": "code",
   "execution_count": 16,
   "metadata": {},
   "outputs": [
    {
     "name": "stdout",
     "output_type": "stream",
     "text": [
      "value.(sum((u2[i, 2] for i = 1:103))) = 0.0\n"
     ]
    },
    {
     "data": {
      "text/plain": [
       "0.0"
      ]
     },
     "execution_count": 16,
     "metadata": {},
     "output_type": "execute_result"
    }
   ],
   "source": [
    "# dishes picked for user 2 on Tuesday\n",
    "@show(value.(sum(u2[i,2] for i in 1:103)))"
   ]
  },
  {
   "cell_type": "code",
   "execution_count": 17,
   "metadata": {},
   "outputs": [
    {
     "name": "stdout",
     "output_type": "stream",
     "text": [
      "value.(sum((u2[i, 3] for i = 1:103))) = 0.0\n"
     ]
    },
    {
     "data": {
      "text/plain": [
       "0.0"
      ]
     },
     "execution_count": 17,
     "metadata": {},
     "output_type": "execute_result"
    }
   ],
   "source": [
    "# dishes picked for user 2 on Wednesday\n",
    "@show(value.(sum(u2[i,3] for i in 1:103)))"
   ]
  },
  {
   "cell_type": "code",
   "execution_count": 18,
   "metadata": {},
   "outputs": [
    {
     "name": "stdout",
     "output_type": "stream",
     "text": [
      "value.(sum((u2[i, 4] for i = 1:103))) = 1.0\n"
     ]
    },
    {
     "data": {
      "text/plain": [
       "1.0"
      ]
     },
     "execution_count": 18,
     "metadata": {},
     "output_type": "execute_result"
    }
   ],
   "source": [
    "# dishes picked for user 2 on Thursday\n",
    "@show(value.(sum(u2[i,4] for i in 1:103)))"
   ]
  },
  {
   "cell_type": "code",
   "execution_count": 19,
   "metadata": {},
   "outputs": [
    {
     "name": "stdout",
     "output_type": "stream",
     "text": [
      "value.((u2[i, 4] for i = 1:103)) = [0.0, 0.0, 0.0, 0.0, 0.0, 0.0, 0.0, 0.0, 0.0, 0.0, 0.0, 0.0, 0.0, 0.0, 0.0, 0.0, 0.0, 0.0, 0.0, 0.0, 0.0, 0.0, 0.0, 0.0, 0.0, 0.0, 0.0, 0.0, 0.0, 0.0, 0.0, 0.0, 0.0, 0.0, 0.0, 0.0, 0.0, 0.0, 0.0, 0.0, 0.0, 0.0, 0.0, 0.0, 1.0, 0.0, 0.0, 0.0, 0.0, 0.0, 0.0, 0.0, 0.0, 0.0, 0.0, 0.0, 0.0, 0.0, 0.0, 0.0, 0.0, 0.0, 0.0, 0.0, 0.0, 0.0, 0.0, 0.0, 0.0, 0.0, 0.0, 0.0, 0.0, 0.0, 0.0, 0.0, 0.0, 0.0, 0.0, 0.0, 0.0, 0.0, 0.0, 0.0, 0.0, 0.0, 0.0, 0.0, 0.0, 0.0, 0.0, 0.0, 0.0, 0.0, 0.0, 0.0, 0.0, 0.0, 0.0, 0.0, 0.0, 0.0, 0.0]\n"
     ]
    },
    {
     "data": {
      "text/plain": [
       "103-element Vector{Float64}:\n",
       " 0.0\n",
       " 0.0\n",
       " 0.0\n",
       " 0.0\n",
       " 0.0\n",
       " 0.0\n",
       " 0.0\n",
       " 0.0\n",
       " 0.0\n",
       " 0.0\n",
       " 0.0\n",
       " 0.0\n",
       " 0.0\n",
       " ⋮\n",
       " 0.0\n",
       " 0.0\n",
       " 0.0\n",
       " 0.0\n",
       " 0.0\n",
       " 0.0\n",
       " 0.0\n",
       " 0.0\n",
       " 0.0\n",
       " 0.0\n",
       " 0.0\n",
       " 0.0"
      ]
     },
     "execution_count": 19,
     "metadata": {},
     "output_type": "execute_result"
    }
   ],
   "source": [
    "# info of dishes picked for user 2 on Thursday\n",
    "@show(value.(u2[i,4] for i in 1:103))"
   ]
  },
  {
   "cell_type": "code",
   "execution_count": 20,
   "metadata": {},
   "outputs": [
    {
     "name": "stdout",
     "output_type": "stream",
     "text": [
      "value.(sum((u3[i, 1] for i = 1:103))) = 0.0\n"
     ]
    },
    {
     "data": {
      "text/plain": [
       "0.0"
      ]
     },
     "execution_count": 20,
     "metadata": {},
     "output_type": "execute_result"
    }
   ],
   "source": [
    "# dishes picked for user 3 on Monday\n",
    "@show(value.(sum(u3[i,1] for i in 1:103)))"
   ]
  },
  {
   "cell_type": "code",
   "execution_count": 21,
   "metadata": {},
   "outputs": [
    {
     "name": "stdout",
     "output_type": "stream",
     "text": [
      "value.(sum((u3[i, 2] for i = 1:103))) = 1.0\n"
     ]
    },
    {
     "data": {
      "text/plain": [
       "1.0"
      ]
     },
     "execution_count": 21,
     "metadata": {},
     "output_type": "execute_result"
    }
   ],
   "source": [
    "# dishes picked for user 3 on Tuesday\n",
    "@show(value.(sum(u3[i,2] for i in 1:103)))"
   ]
  },
  {
   "cell_type": "code",
   "execution_count": 22,
   "metadata": {},
   "outputs": [
    {
     "name": "stdout",
     "output_type": "stream",
     "text": [
      "value.((u3[i, 2] for i = 1:103)) = [0.0, 0.0, 0.0, 0.0, 0.0, 0.0, 0.0, 0.0, 0.0, 0.0, 0.0, 0.0, 0.0, 0.0, 0.0, 0.0, 0.0, 0.0, 0.0, 0.0, 0.0, 0.0, 0.0, 0.0, 0.0, 0.0, 0.0, 0.0, 0.0, 0.0, 0.0, 0.0, 0.0, 0.0, 0.0, 1.0, 0.0, 0.0, 0.0, 0.0, 0.0, 0.0, 0.0, 0.0, 0.0, 0.0, 0.0, 0.0, 0.0, 0.0, 0.0, 0.0, 0.0, 0.0, 0.0, 0.0, 0.0, 0.0, 0.0, 0.0, 0.0, 0.0, 0.0, 0.0, 0.0, 0.0, 0.0, 0.0, 0.0, 0.0, 0.0, 0.0, 0.0, 0.0, 0.0, 0.0, 0.0, 0.0, 0.0, 0.0, 0.0, 0.0, 0.0, 0.0, 0.0, 0.0, 0.0, 0.0, 0.0, 0.0, 0.0, 0.0, 0.0, 0.0, 0.0, 0.0, 0.0, 0.0, 0.0, 0.0, 0.0, 0.0, 0.0]\n"
     ]
    },
    {
     "data": {
      "text/plain": [
       "103-element Vector{Float64}:\n",
       " 0.0\n",
       " 0.0\n",
       " 0.0\n",
       " 0.0\n",
       " 0.0\n",
       " 0.0\n",
       " 0.0\n",
       " 0.0\n",
       " 0.0\n",
       " 0.0\n",
       " 0.0\n",
       " 0.0\n",
       " 0.0\n",
       " ⋮\n",
       " 0.0\n",
       " 0.0\n",
       " 0.0\n",
       " 0.0\n",
       " 0.0\n",
       " 0.0\n",
       " 0.0\n",
       " 0.0\n",
       " 0.0\n",
       " 0.0\n",
       " 0.0\n",
       " 0.0"
      ]
     },
     "execution_count": 22,
     "metadata": {},
     "output_type": "execute_result"
    }
   ],
   "source": [
    "# info of dishes picked for user 3 on Tuesday\n",
    "@show(value.(u3[i,2] for i in 1:103))"
   ]
  },
  {
   "cell_type": "code",
   "execution_count": 23,
   "metadata": {},
   "outputs": [
    {
     "name": "stdout",
     "output_type": "stream",
     "text": [
      "value.(sum((u3[i, 3] for i = 1:103))) = 0.0\n"
     ]
    },
    {
     "data": {
      "text/plain": [
       "0.0"
      ]
     },
     "execution_count": 23,
     "metadata": {},
     "output_type": "execute_result"
    }
   ],
   "source": [
    "# dishes picked for user 3 on Wednesday\n",
    "@show(value.(sum(u3[i,3] for i in 1:103)))"
   ]
  },
  {
   "cell_type": "code",
   "execution_count": 24,
   "metadata": {},
   "outputs": [
    {
     "name": "stdout",
     "output_type": "stream",
     "text": [
      "value.(sum((u3[i, 4] for i = 1:103))) = 0.0\n"
     ]
    },
    {
     "data": {
      "text/plain": [
       "0.0"
      ]
     },
     "execution_count": 24,
     "metadata": {},
     "output_type": "execute_result"
    }
   ],
   "source": [
    "# dishes picked for user 3 on Thursday\n",
    "@show(value.(sum(u3[i,4] for i in 1:103)))"
   ]
  },
  {
   "cell_type": "code",
   "execution_count": 25,
   "metadata": {},
   "outputs": [
    {
     "name": "stdout",
     "output_type": "stream",
     "text": [
      "value.(sum((u4[i, 1] for i = 1:103))) = 1.0\n"
     ]
    },
    {
     "data": {
      "text/plain": [
       "1.0"
      ]
     },
     "execution_count": 25,
     "metadata": {},
     "output_type": "execute_result"
    }
   ],
   "source": [
    "# dishes picked for user 4 on Monday\n",
    "@show(value.(sum(u4[i,1] for i in 1:103)))"
   ]
  },
  {
   "cell_type": "code",
   "execution_count": 26,
   "metadata": {},
   "outputs": [
    {
     "name": "stdout",
     "output_type": "stream",
     "text": [
      "value.((u4[i, 1] for i = 1:103)) = [0.0, 0.0, 0.0, 0.0, 0.0, 0.0, 0.0, 0.0, 0.0, 0.0, 0.0, 0.0, 0.0, 0.0, 0.0, 0.0, 0.0, 0.0, 0.0, 0.0, 0.0, 0.0, 0.0, 0.0, 0.0, 0.0, 0.0, 1.0, 0.0, 0.0, 0.0, 0.0, 0.0, 0.0, 0.0, 0.0, 0.0, 0.0, 0.0, 0.0, 0.0, 0.0, 0.0, 0.0, 0.0, 0.0, 0.0, 0.0, 0.0, 0.0, 0.0, 0.0, 0.0, 0.0, 0.0, 0.0, 0.0, 0.0, 0.0, 0.0, 0.0, 0.0, 0.0, 0.0, 0.0, 0.0, 0.0, 0.0, 0.0, 0.0, 0.0, 0.0, 0.0, 0.0, 0.0, 0.0, 0.0, 0.0, 0.0, 0.0, 0.0, 0.0, 0.0, 0.0, 0.0, 0.0, 0.0, 0.0, 0.0, 0.0, 0.0, 0.0, 0.0, 0.0, 0.0, 0.0, 0.0, 0.0, 0.0, 0.0, 0.0, 0.0, 0.0]\n"
     ]
    },
    {
     "data": {
      "text/plain": [
       "103-element Vector{Float64}:\n",
       " 0.0\n",
       " 0.0\n",
       " 0.0\n",
       " 0.0\n",
       " 0.0\n",
       " 0.0\n",
       " 0.0\n",
       " 0.0\n",
       " 0.0\n",
       " 0.0\n",
       " 0.0\n",
       " 0.0\n",
       " 0.0\n",
       " ⋮\n",
       " 0.0\n",
       " 0.0\n",
       " 0.0\n",
       " 0.0\n",
       " 0.0\n",
       " 0.0\n",
       " 0.0\n",
       " 0.0\n",
       " 0.0\n",
       " 0.0\n",
       " 0.0\n",
       " 0.0"
      ]
     },
     "execution_count": 26,
     "metadata": {},
     "output_type": "execute_result"
    }
   ],
   "source": [
    "# info of dishes picked for user 4 on Monday\n",
    "@show(value.(u4[i,1] for i in 1:103))"
   ]
  },
  {
   "cell_type": "code",
   "execution_count": 27,
   "metadata": {},
   "outputs": [
    {
     "name": "stdout",
     "output_type": "stream",
     "text": [
      "value.(sum((u4[i, 2] for i = 1:103))) = 0.0\n"
     ]
    },
    {
     "data": {
      "text/plain": [
       "0.0"
      ]
     },
     "execution_count": 27,
     "metadata": {},
     "output_type": "execute_result"
    }
   ],
   "source": [
    "# dishes picked for user 4 on Tuesday\n",
    "@show(value.(sum(u4[i,2] for i in 1:103)))"
   ]
  },
  {
   "cell_type": "code",
   "execution_count": 28,
   "metadata": {},
   "outputs": [
    {
     "name": "stdout",
     "output_type": "stream",
     "text": [
      "value.(sum((u4[i, 3] for i = 1:103))) = 1.0\n"
     ]
    },
    {
     "data": {
      "text/plain": [
       "1.0"
      ]
     },
     "execution_count": 28,
     "metadata": {},
     "output_type": "execute_result"
    }
   ],
   "source": [
    "# dishes picked for user 4 on Wednesday\n",
    "@show(value.(sum(u4[i,3] for i in 1:103)))"
   ]
  },
  {
   "cell_type": "code",
   "execution_count": 29,
   "metadata": {},
   "outputs": [
    {
     "name": "stdout",
     "output_type": "stream",
     "text": [
      "value.((u4[i, 3] for i = 1:103)) = [0.0, 0.0, 0.0, 0.0, 0.0, 0.0, 0.0, 0.0, 0.0, 0.0, 0.0, 0.0, 0.0, 0.0, 0.0, 0.0, 0.0, 0.0, 0.0, 0.0, 0.0, 0.0, 0.0, 0.0, 0.0, 0.0, 0.0, 0.0, 0.0, 0.0, 0.0, 0.0, 0.0, 0.0, 0.0, 0.0, 0.0, 0.0, 0.0, 0.0, 0.0, 0.0, 0.0, 0.0, 0.0, 0.0, 0.0, 0.0, 0.0, 0.0, 0.0, 0.0, 0.0, 0.0, 0.0, 0.0, 0.0, 0.0, 0.0, 0.0, 0.0, 0.0, 0.0, 0.0, 0.0, 0.0, 0.0, 0.0, 0.0, 0.0, 0.0, 0.0, 0.0, 0.0, 0.0, 0.0, 0.0, 0.0, 1.0, 0.0, 0.0, 0.0, 0.0, 0.0, 0.0, 0.0, 0.0, 0.0, 0.0, 0.0, 0.0, 0.0, 0.0, 0.0, 0.0, 0.0, 0.0, 0.0, 0.0, 0.0, 0.0, 0.0, 0.0]\n"
     ]
    },
    {
     "data": {
      "text/plain": [
       "103-element Vector{Float64}:\n",
       " 0.0\n",
       " 0.0\n",
       " 0.0\n",
       " 0.0\n",
       " 0.0\n",
       " 0.0\n",
       " 0.0\n",
       " 0.0\n",
       " 0.0\n",
       " 0.0\n",
       " 0.0\n",
       " 0.0\n",
       " 0.0\n",
       " ⋮\n",
       " 0.0\n",
       " 0.0\n",
       " 0.0\n",
       " 0.0\n",
       " 0.0\n",
       " 0.0\n",
       " 0.0\n",
       " 0.0\n",
       " 0.0\n",
       " 0.0\n",
       " 0.0\n",
       " 0.0"
      ]
     },
     "execution_count": 29,
     "metadata": {},
     "output_type": "execute_result"
    }
   ],
   "source": [
    "# info of dishes picked for user 4 on Wednesday\n",
    "@show(value.(u4[i,3] for i in 1:103))"
   ]
  },
  {
   "cell_type": "code",
   "execution_count": 30,
   "metadata": {
    "id": "zpxEp4rfDRDJ",
    "outputId": "7a3d71d5-2788-45c0-d72e-bbd2fcdad3c5"
   },
   "outputs": [
    {
     "name": "stdout",
     "output_type": "stream",
     "text": [
      "value.(sum((u4[i, 4] for i = 1:103))) = 1.0\n"
     ]
    },
    {
     "data": {
      "text/plain": [
       "1.0"
      ]
     },
     "execution_count": 30,
     "metadata": {},
     "output_type": "execute_result"
    }
   ],
   "source": [
    "# dishes picked for user 4 on Thursday\n",
    "@show(value.(sum(u4[i,4] for i in 1:103)))"
   ]
  },
  {
   "cell_type": "code",
   "execution_count": 31,
   "metadata": {},
   "outputs": [
    {
     "name": "stdout",
     "output_type": "stream",
     "text": [
      "value.((u4[i, 4] for i = 1:103)) = [0.0, 0.0, 0.0, 0.0, 0.0, 0.0, 0.0, 0.0, 0.0, 0.0, 0.0, 0.0, 0.0, 0.0, 0.0, 0.0, 0.0, 0.0, 0.0, 0.0, 0.0, 0.0, 0.0, 0.0, 0.0, 0.0, 0.0, 0.0, 0.0, 0.0, 0.0, 0.0, 0.0, 0.0, 0.0, 0.0, 0.0, 0.0, 0.0, 0.0, 0.0, 0.0, 0.0, 0.0, 0.0, 0.0, 0.0, 0.0, 0.0, 0.0, 0.0, 0.0, 0.0, 0.0, 0.0, 0.0, 0.0, 0.0, 0.0, 0.0, 0.0, 0.0, 0.0, 0.0, 0.0, 0.0, 0.0, 0.0, 0.0, 0.0, 0.0, 0.0, 0.0, 0.0, 0.0, 0.0, 0.0, 0.0, 0.0, 0.0, 0.0, 0.0, 0.0, 0.0, 0.0, 0.0, 0.0, 0.0, 0.0, 0.0, 0.0, 0.0, 0.0, 1.0, 0.0, 0.0, 0.0, 0.0, 0.0, 0.0, 0.0, 0.0, 0.0]\n"
     ]
    },
    {
     "data": {
      "text/plain": [
       "103-element Vector{Float64}:\n",
       " 0.0\n",
       " 0.0\n",
       " 0.0\n",
       " 0.0\n",
       " 0.0\n",
       " 0.0\n",
       " 0.0\n",
       " 0.0\n",
       " 0.0\n",
       " 0.0\n",
       " 0.0\n",
       " 0.0\n",
       " 0.0\n",
       " ⋮\n",
       " 0.0\n",
       " 0.0\n",
       " 1.0\n",
       " 0.0\n",
       " 0.0\n",
       " 0.0\n",
       " 0.0\n",
       " 0.0\n",
       " 0.0\n",
       " 0.0\n",
       " 0.0\n",
       " 0.0"
      ]
     },
     "execution_count": 31,
     "metadata": {},
     "output_type": "execute_result"
    }
   ],
   "source": [
    "# info of dishes picked for user 4 on Thursday\n",
    "@show(value.(u4[i,4] for i in 1:103))"
   ]
  }
 ],
 "metadata": {
  "colab": {
   "provenance": []
  },
  "kernelspec": {
   "display_name": "Julia 1.8.0",
   "language": "julia",
   "name": "julia-1.8"
  },
  "language_info": {
   "file_extension": ".jl",
   "mimetype": "application/julia",
   "name": "julia",
   "version": "1.8.0"
  }
 },
 "nbformat": 4,
 "nbformat_minor": 1
}
